{
 "cells": [
  {
   "cell_type": "markdown",
   "metadata": {
    "slideshow": {
     "slide_type": "slide"
    }
   },
   "source": [
    "# A Python Lecture Series\n",
    "\n",
    "## Lecture 3\n",
    "\n",
    "#### by Luca Mingarelli"
   ]
  },
  {
   "cell_type": "markdown",
   "metadata": {
    "slideshow": {
     "slide_type": "slide"
    }
   },
   "source": [
    "# Lecture 3\n",
    "## Content:\n",
    "\n",
    "   - Object Oriented Programming\n",
    "   - Classes and Objects in Python\n",
    "   - Class Attributes\n",
    "   - Operator Overloading\n",
    "   - Public, Protected, and Private Attributes\n",
    "   - Properties, or *getters* and *setters*\n",
    "   - Types of Methods\n",
    "   - Inheritance"
   ]
  },
  {
   "cell_type": "markdown",
   "metadata": {
    "slideshow": {
     "slide_type": "slide"
    }
   },
   "source": [
    "## A Brief overview of different programming paradigms\n",
    "\n",
    "- **Procedural**: A sequence of instructions to elaborate the input in order to solve a given problem. *E.g.*: C, Pascal, UNIX(sh).\n",
    "- **Declarative**: A specification describes the problem, and the language figures out how to carry out the task. *E.g.*: SQL.\n",
    "- **Functional**: The problem to be solved is decomposed into a set of functions. E.g. Q, Haskell.\n",
    "- **Object-Oriented**: A problem is broken down into abstract collections of objects with internal states and methods to query and modify them. *E.g.*: Java.\n",
    "- **Multi-paradigm**: a blend of two or more of the previous paradigms. E.g.: C++, Python."
   ]
  },
  {
   "cell_type": "markdown",
   "metadata": {
    "slideshow": {
     "slide_type": "slide"
    }
   },
   "source": [
    "## Object Oriented Programming"
   ]
  },
  {
   "cell_type": "markdown",
   "metadata": {
    "slideshow": {
     "slide_type": "fragment"
    }
   },
   "source": [
    "- **Object**: A notion of *entity*, characterised by some values or *attributes* and functions or *methods*.\n",
    "- **Class**: The abstract notion through which we group objects of the same type together."
   ]
  },
  {
   "cell_type": "markdown",
   "metadata": {
    "slideshow": {
     "slide_type": "fragment"
    }
   },
   "source": [
    "Four major principles:\n",
    "\n",
    "- Abstraction\n",
    "- Encapsulation\n",
    "- Inheritance\n",
    "- Polymorphism"
   ]
  },
  {
   "cell_type": "markdown",
   "metadata": {
    "slideshow": {
     "slide_type": "subslide"
    }
   },
   "source": [
    "Humans have the habit of thinking in terms of abstract concepts. Think for example of a car, which is a well defined uniform object in our mind: when we think of it, we abstract from its inner functioning and components (**abstraction**), as well as from its content (**encapsulation**).\n",
    "\n",
    "In addition, in our minds, we often group objects in broader categories (or classes), grouping together objects with similar purposes and functioning, thus abstracting further. Think of the generalised class of vehicles, which includes cars, vans, trucks and so on. Many of the attributes and funtions of these are nonetheless shared among different subclasses. This relates to the concepts of **inheritance**.\n",
    "\n",
    "Finally, different objects, part of the same broader class, might perform a specific action differently, depending on some of their distinctive attributes. As an example, loading a car's boot is a specific action which requires different implementation depending on whether your car has a boot in front or on the rear. The action to be performed is different, nonetheless we refer to both actions as *loading the car*. This is what we mean by function's **polymorphism**."
   ]
  },
  {
   "cell_type": "code",
   "execution_count": 1,
   "metadata": {
    "cell_style": "split",
    "slideshow": {
     "slide_type": "subslide"
    }
   },
   "outputs": [
    {
     "name": "stdout",
     "output_type": "stream",
     "text": [
      "<class 'int'>\n",
      "['__abs__', '__add__', '__and__', '__bool__', '__ceil__', '__class__', '__delattr__', '__dir__', '__divmod__', '__doc__', '__eq__', '__float__', '__floor__', '__floordiv__', '__format__', '__ge__', '__getattribute__', '__getnewargs__', '__gt__', '__hash__', '__index__', '__init__', '__init_subclass__', '__int__', '__invert__', '__le__', '__lshift__', '__lt__', '__mod__', '__mul__', '__ne__', '__neg__', '__new__', '__or__', '__pos__', '__pow__', '__radd__', '__rand__', '__rdivmod__', '__reduce__', '__reduce_ex__', '__repr__', '__rfloordiv__', '__rlshift__', '__rmod__', '__rmul__', '__ror__', '__round__', '__rpow__', '__rrshift__', '__rshift__', '__rsub__', '__rtruediv__', '__rxor__', '__setattr__', '__sizeof__', '__str__', '__sub__', '__subclasshook__', '__truediv__', '__trunc__', '__xor__', 'bit_length', 'conjugate', 'denominator', 'from_bytes', 'imag', 'numerator', 'real', 'to_bytes']\n"
     ]
    }
   ],
   "source": [
    "print(type(2))\n",
    "print(dir(2))"
   ]
  },
  {
   "cell_type": "code",
   "execution_count": 2,
   "metadata": {
    "cell_style": "split",
    "slideshow": {
     "slide_type": "fragment"
    }
   },
   "outputs": [
    {
     "data": {
      "text/plain": [
       "int"
      ]
     },
     "execution_count": 2,
     "metadata": {},
     "output_type": "execute_result"
    }
   ],
   "source": [
    "(2).__class__"
   ]
  },
  {
   "cell_type": "code",
   "execution_count": 3,
   "metadata": {
    "cell_style": "split",
    "slideshow": {
     "slide_type": "fragment"
    }
   },
   "outputs": [
    {
     "data": {
      "text/plain": [
       "2"
      ]
     },
     "execution_count": 3,
     "metadata": {},
     "output_type": "execute_result"
    }
   ],
   "source": [
    "(2).numerator"
   ]
  },
  {
   "cell_type": "code",
   "execution_count": 4,
   "metadata": {
    "cell_style": "split",
    "slideshow": {
     "slide_type": "fragment"
    }
   },
   "outputs": [
    {
     "data": {
      "text/plain": [
       "'2'"
      ]
     },
     "execution_count": 4,
     "metadata": {},
     "output_type": "execute_result"
    }
   ],
   "source": [
    "(2).__str__() "
   ]
  },
  {
   "cell_type": "code",
   "execution_count": 5,
   "metadata": {
    "cell_style": "split",
    "slideshow": {
     "slide_type": "fragment"
    }
   },
   "outputs": [
    {
     "data": {
      "text/plain": [
       "12"
      ]
     },
     "execution_count": 5,
     "metadata": {},
     "output_type": "execute_result"
    }
   ],
   "source": [
    "(2).__add__(10)"
   ]
  },
  {
   "cell_type": "code",
   "execution_count": 6,
   "metadata": {
    "cell_style": "split",
    "slideshow": {
     "slide_type": "fragment"
    }
   },
   "outputs": [
    {
     "data": {
      "text/plain": [
       "12"
      ]
     },
     "execution_count": 6,
     "metadata": {},
     "output_type": "execute_result"
    }
   ],
   "source": [
    "int.__add__(2,10)"
   ]
  },
  {
   "cell_type": "markdown",
   "metadata": {
    "slideshow": {
     "slide_type": "slide"
    }
   },
   "source": [
    "### The distinction between a class and an object"
   ]
  },
  {
   "cell_type": "code",
   "execution_count": 7,
   "metadata": {
    "cell_style": "split",
    "slideshow": {
     "slide_type": "fragment"
    }
   },
   "outputs": [],
   "source": [
    "class Person:\n",
    "    pass"
   ]
  },
  {
   "cell_type": "code",
   "execution_count": 8,
   "metadata": {
    "cell_style": "split",
    "slideshow": {
     "slide_type": "fragment"
    }
   },
   "outputs": [
    {
     "name": "stdout",
     "output_type": "stream",
     "text": [
      "<__main__.Person object at 0x000002556CD970F0>\n",
      "<__main__.Person object at 0x000002556CD970B8>\n"
     ]
    }
   ],
   "source": [
    "person1 = Person()\n",
    "person2 = Person()\n",
    "print(person1)\n",
    "print(person2)"
   ]
  },
  {
   "cell_type": "markdown",
   "metadata": {
    "slideshow": {
     "slide_type": "fragment"
    }
   },
   "source": [
    "Notice the two different locations in memory: `person1` and `person2` are two distinct instances of the class `Person`."
   ]
  },
  {
   "cell_type": "code",
   "execution_count": 9,
   "metadata": {
    "cell_style": "split",
    "slideshow": {
     "slide_type": "fragment"
    }
   },
   "outputs": [],
   "source": [
    "person1.name=\"Giuseppe Luigi Lagrangia\"\n",
    "person1.yob = 1736"
   ]
  },
  {
   "cell_type": "code",
   "execution_count": 10,
   "metadata": {
    "cell_style": "split",
    "slideshow": {
     "slide_type": "fragment"
    }
   },
   "outputs": [
    {
     "name": "stdout",
     "output_type": "stream",
     "text": [
      "Giuseppe Luigi Lagrangia , born 1736\n"
     ]
    },
    {
     "ename": "AttributeError",
     "evalue": "'Person' object has no attribute 'name'",
     "output_type": "error",
     "traceback": [
      "\u001b[1;31m---------------------------------------------------------------------------\u001b[0m",
      "\u001b[1;31mAttributeError\u001b[0m                            Traceback (most recent call last)",
      "\u001b[1;32m<ipython-input-10-f4169f585d6d>\u001b[0m in \u001b[0;36m<module>\u001b[1;34m\u001b[0m\n\u001b[0;32m      1\u001b[0m print(person1.name,\", born\",\n\u001b[0;32m      2\u001b[0m       person1.yob)\n\u001b[1;32m----> 3\u001b[1;33m \u001b[0mperson2\u001b[0m\u001b[1;33m.\u001b[0m\u001b[0mname\u001b[0m\u001b[1;33m\u001b[0m\u001b[1;33m\u001b[0m\u001b[0m\n\u001b[0m",
      "\u001b[1;31mAttributeError\u001b[0m: 'Person' object has no attribute 'name'"
     ]
    }
   ],
   "source": [
    "print(person1.name,\", born\",\n",
    "      person1.yob)\n",
    "person2.name"
   ]
  },
  {
   "cell_type": "markdown",
   "metadata": {
    "slideshow": {
     "slide_type": "slide"
    }
   },
   "source": [
    "### A silly but useful usage of classes: containers"
   ]
  },
  {
   "cell_type": "code",
   "execution_count": 11,
   "metadata": {
    "cell_style": "split",
    "slideshow": {
     "slide_type": "fragment"
    }
   },
   "outputs": [],
   "source": [
    "class box:\n",
    "    pass"
   ]
  },
  {
   "cell_type": "code",
   "execution_count": 12,
   "metadata": {
    "cell_style": "split",
    "slideshow": {
     "slide_type": "fragment"
    }
   },
   "outputs": [],
   "source": [
    "B = box()\n",
    "B.string = \"I can store a string\"\n",
    "B.list = [1,2,3,4,5]"
   ]
  },
  {
   "cell_type": "code",
   "execution_count": 13,
   "metadata": {
    "cell_style": "split",
    "slideshow": {
     "slide_type": "fragment"
    }
   },
   "outputs": [
    {
     "data": {
      "text/plain": [
       "<function __main__.<lambda>(x)>"
      ]
     },
     "execution_count": 13,
     "metadata": {},
     "output_type": "execute_result"
    }
   ],
   "source": [
    "B.mean = lambda x: sum(x)/len(x)\n",
    "B.mean "
   ]
  },
  {
   "cell_type": "code",
   "execution_count": 14,
   "metadata": {
    "cell_style": "split",
    "slideshow": {
     "slide_type": "fragment"
    }
   },
   "outputs": [
    {
     "name": "stdout",
     "output_type": "stream",
     "text": [
      "I can store a string\n",
      "[1, 2, 3, 4, 5]\n"
     ]
    },
    {
     "data": {
      "text/plain": [
       "3.0"
      ]
     },
     "execution_count": 14,
     "metadata": {},
     "output_type": "execute_result"
    }
   ],
   "source": [
    "print(B.string)\n",
    "print(B.list)\n",
    "B.mean(B.list)"
   ]
  },
  {
   "cell_type": "code",
   "execution_count": 15,
   "metadata": {
    "cell_style": "split",
    "slideshow": {
     "slide_type": "fragment"
    }
   },
   "outputs": [],
   "source": [
    "B.box2 = box()\n",
    "B.box2.value = 100"
   ]
  },
  {
   "cell_type": "code",
   "execution_count": 16,
   "metadata": {
    "cell_style": "split",
    "slideshow": {
     "slide_type": "fragment"
    }
   },
   "outputs": [
    {
     "name": "stdout",
     "output_type": "stream",
     "text": [
      "100\n"
     ]
    }
   ],
   "source": [
    "print(B.box2.value)"
   ]
  },
  {
   "cell_type": "markdown",
   "metadata": {
    "slideshow": {
     "slide_type": "slide"
    }
   },
   "source": [
    "### *Classes* are specified by their:\n",
    "- Attributes (and Properties)\n",
    "- Methods\n",
    "\n",
    "### *Objects* are instances of a class and as such are specified by their:\n",
    "- Class\n",
    "- Name"
   ]
  },
  {
   "cell_type": "code",
   "execution_count": 17,
   "metadata": {
    "cell_style": "split",
    "slideshow": {
     "slide_type": "fragment"
    }
   },
   "outputs": [],
   "source": [
    "class a_python_course:\n",
    "    def __init__(self):\n",
    "        self.name = \"A Python Course\""
   ]
  },
  {
   "cell_type": "code",
   "execution_count": 18,
   "metadata": {
    "cell_style": "split",
    "slideshow": {
     "slide_type": "fragment"
    }
   },
   "outputs": [
    {
     "name": "stdout",
     "output_type": "stream",
     "text": [
      "A Python Course\n"
     ]
    },
    {
     "data": {
      "text/plain": [
       "__main__.a_python_course"
      ]
     },
     "execution_count": 18,
     "metadata": {},
     "output_type": "execute_result"
    }
   ],
   "source": [
    "APC = a_python_course()\n",
    "print(APC.name)\n",
    "type(APC)"
   ]
  },
  {
   "cell_type": "markdown",
   "metadata": {
    "slideshow": {
     "slide_type": "fragment"
    }
   },
   "source": [
    "**<font color=red>Warning</font>**: To define a class is different from initialising it."
   ]
  },
  {
   "cell_type": "markdown",
   "metadata": {
    "slideshow": {
     "slide_type": "subslide"
    }
   },
   "source": [
    "Notice:\n",
    " - `__init__` is a special function called at the very beginning of the instantiation of the class, used to initialise it. It is not mandatory and can take several arguments.\n",
    " \n",
    "- `self` is a special keywork used to address to object itself.\n",
    "\n",
    "- **Attributes** are defined attached to the keywork `self`, separated by `.`.\n",
    "\n",
    "- **Methods** are defined similarly to function definitions, however they require the keywork `self` as a first argument.\n",
    "\n"
   ]
  },
  {
   "cell_type": "code",
   "execution_count": 19,
   "metadata": {
    "cell_style": "split",
    "slideshow": {
     "slide_type": "subslide"
    }
   },
   "outputs": [],
   "source": [
    "class a_python_course:\n",
    "    def __init__(self):\n",
    "        self.name = \"A Python Course\"\n",
    "    def next_lecture(self):\n",
    "        import datetime as dt\n",
    "        D = dt.date.today()\n",
    "        print(D+ dt.timedelta(days=7))\n",
    "        print(\"at 16.30,room HS32.50.\")"
   ]
  },
  {
   "cell_type": "code",
   "execution_count": 20,
   "metadata": {
    "cell_style": "split",
    "slideshow": {
     "slide_type": "fragment"
    }
   },
   "outputs": [
    {
     "name": "stdout",
     "output_type": "stream",
     "text": [
      "2022-06-19\n",
      "at 16.30,room HS32.50.\n"
     ]
    }
   ],
   "source": [
    "APC = a_python_course()\n",
    "APC.next_lecture() ## or,alternatively:\n",
    "#a_python_course.next_lecture(APC)"
   ]
  },
  {
   "cell_type": "markdown",
   "metadata": {
    "slideshow": {
     "slide_type": "subslide"
    }
   },
   "source": [
    "An object's attribute can be easily initialised when the object is created:"
   ]
  },
  {
   "cell_type": "code",
   "execution_count": 21,
   "metadata": {
    "cell_style": "split",
    "slideshow": {
     "slide_type": "fragment"
    }
   },
   "outputs": [],
   "source": [
    "class attendee:\n",
    "    '''A class for attendees \n",
    "of some course.'''\n",
    "    def __init__(self, name):\n",
    "        self.name=\"My name is \"+name "
   ]
  },
  {
   "cell_type": "code",
   "execution_count": 22,
   "metadata": {
    "cell_style": "split",
    "slideshow": {
     "slide_type": "fragment"
    }
   },
   "outputs": [
    {
     "name": "stdout",
     "output_type": "stream",
     "text": [
      "A class for attendees \n",
      "of some course.\n"
     ]
    },
    {
     "data": {
      "text/plain": [
       "'My name is Paul'"
      ]
     },
     "execution_count": 22,
     "metadata": {},
     "output_type": "execute_result"
    }
   ],
   "source": [
    "d = attendee(\"Paul\")\n",
    "print(d.__doc__)\n",
    "d.name"
   ]
  },
  {
   "cell_type": "markdown",
   "metadata": {
    "slideshow": {
     "slide_type": "fragment"
    }
   },
   "source": [
    "Apart from the `self` keywork, methods are very much the same as functions:"
   ]
  },
  {
   "cell_type": "code",
   "execution_count": 23,
   "metadata": {
    "cell_style": "center",
    "slideshow": {
     "slide_type": "fragment"
    }
   },
   "outputs": [],
   "source": [
    "class attendee:\n",
    "    def __init__(self, name, homework_response = None):\n",
    "        self.name = name\n",
    "        if not homework_response:\n",
    "            self.homework = \"Homework done by \"+name\n",
    "        else:\n",
    "            self.homework = self.name+ \": \" + homework_response"
   ]
  },
  {
   "cell_type": "markdown",
   "metadata": {
    "slideshow": {
     "slide_type": "subslide"
    }
   },
   "source": [
    "Encapsulation works for any kind of data structure, also for user defined classes:"
   ]
  },
  {
   "cell_type": "code",
   "execution_count": 24,
   "metadata": {
    "cell_style": "split",
    "slideshow": {
     "slide_type": "fragment"
    }
   },
   "outputs": [],
   "source": [
    "class a_python_course:\n",
    "    def __init__(self):\n",
    "        self.name = \"A Python Course\"\n",
    "        self.attendees = list()\n",
    "    def next_lecture(self):\n",
    "        import datetime as dt\n",
    "        D = dt.date.today()\n",
    "        print(D + dt.timedelta(days=7))\n",
    "        print(\"at 16.30,room HS32.50.\")\n",
    "    def register_attendee(self, \n",
    "                          attendee):\n",
    "        self.attendees.append(attendee)\n",
    "    def handin_homework(self):\n",
    "        for attendee in self.attendees:\n",
    "            print(attendee.homework)"
   ]
  },
  {
   "cell_type": "code",
   "execution_count": 25,
   "metadata": {
    "cell_style": "split",
    "slideshow": {
     "slide_type": "fragment"
    }
   },
   "outputs": [],
   "source": [
    "APC = a_python_course()\n",
    "A = list() ##list of attendees\n",
    "A+=[attendee(\"Julian\")]\n",
    "A+=[attendee(\"Domenico\",\n",
    "            \"The dog ate my homework\")]\n",
    "A+=[attendee(\"Elisa\")]\n",
    "A+=[attendee(\"Simone\", \"Ehh...\")]\n",
    "for att in A:\n",
    "    APC.register_attendee(att)"
   ]
  },
  {
   "cell_type": "code",
   "execution_count": 26,
   "metadata": {
    "cell_style": "split",
    "slideshow": {
     "slide_type": "fragment"
    }
   },
   "outputs": [
    {
     "name": "stdout",
     "output_type": "stream",
     "text": [
      "Homework done by Julian\n",
      "Domenico: The dog ate my homework\n",
      "Homework done by Elisa\n",
      "Simone: Ehh...\n"
     ]
    }
   ],
   "source": [
    "APC.handin_homework()"
   ]
  },
  {
   "cell_type": "markdown",
   "metadata": {
    "slideshow": {
     "slide_type": "fragment"
    }
   },
   "source": [
    "Moreover, notice that the encapsulated data is unique to each instance of a class.\n",
    "\n",
    "**<font color=red>Warning</font>**: Attributes and methods **cannot** have the same name."
   ]
  },
  {
   "cell_type": "markdown",
   "metadata": {
    "slideshow": {
     "slide_type": "subslide"
    }
   },
   "source": [
    "### Class Attributes\n",
    "\n",
    "Class attributes are shared among all instances of the class, and can be accessed either through the class' name or through each instance."
   ]
  },
  {
   "cell_type": "code",
   "execution_count": 27,
   "metadata": {
    "cell_style": "split",
    "slideshow": {
     "slide_type": "fragment"
    }
   },
   "outputs": [],
   "source": [
    "class Person:\n",
    "    _type = \"human\" \n",
    "    def __init__(self, name, yob):\n",
    "        self.name, self.yob = name, yob\n",
    "    def get_info(self):\n",
    "        print(self.name,\"is a\",\n",
    "              self._type,\"born in\",\n",
    "              self.yob)"
   ]
  },
  {
   "cell_type": "code",
   "execution_count": 28,
   "metadata": {
    "cell_style": "split"
   },
   "outputs": [
    {
     "name": "stdout",
     "output_type": "stream",
     "text": [
      "Giuseppe Luigi Lagrangia is a human born in 1736\n"
     ]
    }
   ],
   "source": [
    "GLL=Person(\"Giuseppe Luigi Lagrangia\",1736)\n",
    "GLL.get_info()"
   ]
  },
  {
   "cell_type": "markdown",
   "metadata": {
    "slideshow": {
     "slide_type": "fragment"
    }
   },
   "source": [
    "Notice class attributes can be overriden for an individual instance, without affecting the others."
   ]
  },
  {
   "cell_type": "code",
   "execution_count": 29,
   "metadata": {
    "cell_style": "split",
    "slideshow": {
     "slide_type": "fragment"
    }
   },
   "outputs": [],
   "source": [
    "MK = Person(\"Milan Kundera\",1929)\n",
    "MK._type = \"writer\" ## however...\n",
    "Person._type = \"writer\""
   ]
  },
  {
   "cell_type": "code",
   "execution_count": 30,
   "metadata": {
    "cell_style": "split",
    "slideshow": {
     "slide_type": "fragment"
    }
   },
   "outputs": [
    {
     "name": "stdout",
     "output_type": "stream",
     "text": [
      "Milan Kundera is a writer born in 1929\n",
      "Giuseppe Luigi Lagrangia is a writer born in 1736\n"
     ]
    }
   ],
   "source": [
    "MK.get_info()\n",
    "GLL.get_info()"
   ]
  },
  {
   "cell_type": "markdown",
   "metadata": {
    "slideshow": {
     "slide_type": "subslide"
    }
   },
   "source": [
    "#### Keep track of the number of instances"
   ]
  },
  {
   "cell_type": "code",
   "execution_count": 31,
   "metadata": {
    "cell_style": "split",
    "slideshow": {
     "slide_type": "fragment"
    }
   },
   "outputs": [],
   "source": [
    "class Person:\n",
    "    _num_of_persons = 0\n",
    "    __persons = set()\n",
    "    _type = \"human\" \n",
    "    def __init__(self, name, yob):\n",
    "        self.name, self.yob = name, yob\n",
    "        Person.__persons.add(hash((name,yob)))\n",
    "        Person._num_of_persons = len(Person.__persons)\n",
    "    def get_info(self):\n",
    "        print(self.name,\"is a\",\n",
    "              self._type,\"born in\",\n",
    "              self.yob)"
   ]
  },
  {
   "cell_type": "code",
   "execution_count": 32,
   "metadata": {
    "cell_style": "split",
    "slideshow": {
     "slide_type": "fragment"
    }
   },
   "outputs": [
    {
     "data": {
      "text/plain": [
       "3"
      ]
     },
     "execution_count": 32,
     "metadata": {},
     "output_type": "execute_result"
    }
   ],
   "source": [
    "GLL=Person(\"Giuseppe Luigi Lagrangia\",\n",
    "             1736)\n",
    "MK = Person(\"Milan Kundera\",1929)\n",
    "JPR = Person(\"Jean-Philippe Rameau\",\n",
    "             1683)\n",
    "Person._num_of_persons"
   ]
  },
  {
   "cell_type": "markdown",
   "metadata": {
    "slideshow": {
     "slide_type": "fragment"
    }
   },
   "source": [
    "However notice that reinstanciating the same object, still increases the counter `_num_of_persons`."
   ]
  },
  {
   "cell_type": "markdown",
   "metadata": {
    "slideshow": {
     "slide_type": "fragment"
    }
   },
   "source": [
    "However, using `hash()`..."
   ]
  },
  {
   "cell_type": "code",
   "execution_count": 33,
   "metadata": {
    "slideshow": {
     "slide_type": "skip"
    }
   },
   "outputs": [],
   "source": [
    "class Person:\n",
    "    _num_of_persons = 0\n",
    "#     __persons = set()\n",
    "    _type = \"human\" \n",
    "    def __init__(self, name, yob):\n",
    "        self.name, self.yob = name, yob\n",
    "#         Person.__persons.add(hash((name,yob)))\n",
    "        Person._num_of_persons += 1 \n",
    "#         Person._num_of_persons=len(Person.__persons)\n",
    "    def get_info(self):\n",
    "        print(self.name,\"is a\",self._type,\"born in\",self.yob)"
   ]
  },
  {
   "cell_type": "markdown",
   "metadata": {
    "slideshow": {
     "slide_type": "slide"
    }
   },
   "source": [
    "### Operator overloading"
   ]
  },
  {
   "cell_type": "markdown",
   "metadata": {
    "slideshow": {
     "slide_type": "fragment"
    }
   },
   "source": [
    "|Method's name| Description|\n",
    "|--|--|\n",
    "|`object.__add__(self, other)`|           implements the  `+`     operator |                \n",
    "|`object.__sub__(self, other)`|           implements the  `-`     operator |                \n",
    "|`object.__mul__(self, other)`|           implements the  `*`     operator|                 \n",
    "|`object.__matmul__(self, other)`|        implements the  `@`     operator |                   \n",
    "|`object.__truediv__(self, other)`|       implements the  `/`     operator |                    \n",
    "|`object.__floordiv__(self, other)`|      implements the  `//`    operator  |                     \n",
    "|`object.__mod__(self, other)`|           implements the  `%`     operator |                                 \n",
    "|`object.__pow__(self, other[, modulo])`| implements the  `**`    operator  |                          \n",
    "|`object.__lshift__(self, other)`|        implements the  `<<`    operator  |                   \n",
    "|`object.__rshift__(self, other)`|        implements the  `>>`    operator  | \n",
    "|`object.__lt__(self, other)`|            implements the  `<`     operator |\n",
    "|`object.__le__(self, other)`|            implements the  `<=`    operator  |\n",
    "|`object.__eq__(self, other)`|            implements the  `==`    operator  |\n",
    "|`object.__ne__(self, other)`|            implements the  `!=`    operator  |\n",
    "|`object.__gt__(self, other)`|            implements the  `>`     operator |\n",
    "|`object.__ge__(self, other)`|            implements the  `>=`    operator  |\n",
    "|`object.__and__(self, other)`|           implements the  `&`     operator |                \n",
    "|`object.__xor__(self, other)`|           implements the  `^`     operator |                \n",
    "|`object.__or__(self, other)`|            implements the  `\\| `   operator   |  \n",
    "|`object.__neg__(self)`|                  implements the unary `-` operator |\n",
    "|`object.__pos__(self)`|                  implements the unary `+` operator |\n",
    "|`object.__abs__(self)`|                  implements the `abs()` operator |\n",
    "|`object.__str__(self,)`|defines what the function `print()` should return|\n",
    "|`object.__repr__(self,)`|defines the string representation of `object`|\n",
    "|...|...|"
   ]
  },
  {
   "cell_type": "markdown",
   "metadata": {
    "slideshow": {
     "slide_type": "fragment"
    }
   },
   "source": [
    "Prefixing `i` to the name, as in `object.__iadd__(self, other)`, allows to implement augmented operations such as `+=`."
   ]
  },
  {
   "cell_type": "markdown",
   "metadata": {
    "slideshow": {
     "slide_type": "subslide"
    }
   },
   "source": [
    "Consider the following example class:"
   ]
  },
  {
   "cell_type": "code",
   "execution_count": 34,
   "metadata": {
    "cell_style": "split",
    "slideshow": {
     "slide_type": "-"
    }
   },
   "outputs": [
    {
     "data": {
      "text/plain": [
       "(3.0, -4.5)"
      ]
     },
     "execution_count": 34,
     "metadata": {},
     "output_type": "execute_result"
    }
   ],
   "source": [
    "class Complex:\n",
    "    def __init__(self, realpart, \n",
    "                 imagpart):\n",
    "        self.r = realpart\n",
    "        self.i = imagpart\n",
    "x = Complex(3.0, -4.5)\n",
    "x.r, x.i "
   ]
  },
  {
   "cell_type": "code",
   "execution_count": 35,
   "metadata": {
    "cell_style": "split",
    "slideshow": {
     "slide_type": "fragment"
    }
   },
   "outputs": [
    {
     "ename": "TypeError",
     "evalue": "unsupported operand type(s) for +: 'Complex' and 'Complex'",
     "output_type": "error",
     "traceback": [
      "\u001b[1;31m---------------------------------------------------------------------------\u001b[0m",
      "\u001b[1;31mTypeError\u001b[0m                                 Traceback (most recent call last)",
      "\u001b[1;32m<ipython-input-35-4f73bb7ace45>\u001b[0m in \u001b[0;36m<module>\u001b[1;34m\u001b[0m\n\u001b[0;32m      1\u001b[0m \u001b[0mz1\u001b[0m \u001b[1;33m=\u001b[0m \u001b[0mComplex\u001b[0m\u001b[1;33m(\u001b[0m\u001b[1;36m1\u001b[0m\u001b[1;33m,\u001b[0m\u001b[1;36m1\u001b[0m\u001b[1;33m)\u001b[0m\u001b[1;33m\u001b[0m\u001b[1;33m\u001b[0m\u001b[0m\n\u001b[0;32m      2\u001b[0m \u001b[0mz2\u001b[0m \u001b[1;33m=\u001b[0m \u001b[0mComplex\u001b[0m\u001b[1;33m(\u001b[0m\u001b[1;36m1\u001b[0m\u001b[1;33m,\u001b[0m\u001b[1;36m2\u001b[0m\u001b[1;33m)\u001b[0m\u001b[1;33m\u001b[0m\u001b[1;33m\u001b[0m\u001b[0m\n\u001b[1;32m----> 3\u001b[1;33m \u001b[0mz1\u001b[0m\u001b[1;33m+\u001b[0m\u001b[0mz2\u001b[0m\u001b[1;33m\u001b[0m\u001b[1;33m\u001b[0m\u001b[0m\n\u001b[0m",
      "\u001b[1;31mTypeError\u001b[0m: unsupported operand type(s) for +: 'Complex' and 'Complex'"
     ]
    }
   ],
   "source": [
    "z1 = Complex(1,1)\n",
    "z2 = Complex(1,2)\n",
    "z1+z2"
   ]
  },
  {
   "cell_type": "code",
   "execution_count": 36,
   "metadata": {
    "cell_style": "split",
    "slideshow": {
     "slide_type": "fragment"
    }
   },
   "outputs": [],
   "source": [
    "class Complex:\n",
    "    def __init__(self, realpart, \n",
    "                 imagpart):\n",
    "        self.r = realpart\n",
    "        self.i = imagpart\n",
    "    def __add__(self, other):\n",
    "        real = self.r + other.r\n",
    "        imag = self.i + other.i\n",
    "        return Complex(real,imag)"
   ]
  },
  {
   "cell_type": "code",
   "execution_count": 37,
   "metadata": {
    "cell_style": "split",
    "slideshow": {
     "slide_type": "fragment"
    }
   },
   "outputs": [
    {
     "name": "stdout",
     "output_type": "stream",
     "text": [
      "<__main__.Complex object at 0x000002556CDEDC88>\n"
     ]
    },
    {
     "data": {
      "text/plain": [
       "<__main__.Complex at 0x2556cdeda90>"
      ]
     },
     "execution_count": 37,
     "metadata": {},
     "output_type": "execute_result"
    }
   ],
   "source": [
    "z1 = Complex(1,1)\n",
    "z2 = Complex(1,2)\n",
    "print(z1+z2)\n",
    "z1+z2"
   ]
  },
  {
   "cell_type": "code",
   "execution_count": 38,
   "metadata": {
    "cell_style": "center",
    "slideshow": {
     "slide_type": "subslide"
    }
   },
   "outputs": [],
   "source": [
    "class Complex:\n",
    "    def __init__(self, realpart, \n",
    "                 imagpart):\n",
    "        self.r = realpart\n",
    "        self.i = imagpart\n",
    "    def __add__(self, other):\n",
    "        real = self.r * other.r\n",
    "        imag = self.i * other.i\n",
    "        return Complex(real,imag)\n",
    "    def __str__(self):\n",
    "        return str(self.r)+\"+\"+str(self.i)+\"i\"\n",
    "    def __repr__(self):\n",
    "        return self.__str__()"
   ]
  },
  {
   "cell_type": "code",
   "execution_count": 39,
   "metadata": {
    "cell_style": "center",
    "slideshow": {
     "slide_type": "fragment"
    }
   },
   "outputs": [
    {
     "name": "stdout",
     "output_type": "stream",
     "text": [
      "1+2i\n"
     ]
    },
    {
     "data": {
      "text/plain": [
       "1+2i"
      ]
     },
     "execution_count": 39,
     "metadata": {},
     "output_type": "execute_result"
    }
   ],
   "source": [
    "z1 = Complex(1,1)\n",
    "z2 = Complex(1,2)\n",
    "print(z1+z2)\n",
    "z1+z2      #NOTICE: z1-z2 still wouldn't work!"
   ]
  },
  {
   "cell_type": "markdown",
   "metadata": {
    "slideshow": {
     "slide_type": "slide"
    }
   },
   "source": [
    "### Public, Protected, and Private Attributes"
   ]
  },
  {
   "cell_type": "markdown",
   "metadata": {
    "slideshow": {
     "slide_type": "fragment"
    }
   },
   "source": [
    "#### Naming of attributes and methods\n",
    "\n",
    "\n",
    "|Name    |Type     |Meaning|\n",
    "|--------|---------|-------|\n",
    "|`name`  |Public   |Can be freely used inside or outside of a class definition.|\n",
    "|`_name` |Protected|Should not be used outside of the class definition, unless inside of a subclass definition.|\n",
    "|`__name`|Private  |Inaccessible and invisible (except inside of the class definition itself).|"
   ]
  },
  {
   "cell_type": "code",
   "execution_count": 40,
   "metadata": {
    "cell_style": "center",
    "slideshow": {
     "slide_type": "subslide"
    }
   },
   "outputs": [],
   "source": [
    "class a_class:\n",
    "    def __init__(self):\n",
    "        self.__priv = \"I am a private attribute\" \n",
    "        self._prot = \"I am a protected attribute\"\n",
    "        self.pub = \"I am a public attribute\""
   ]
  },
  {
   "cell_type": "code",
   "execution_count": 41,
   "metadata": {
    "cell_style": "split",
    "slideshow": {
     "slide_type": "fragment"
    }
   },
   "outputs": [
    {
     "data": {
      "text/plain": [
       "'I am a public attribute'"
      ]
     },
     "execution_count": 41,
     "metadata": {},
     "output_type": "execute_result"
    }
   ],
   "source": [
    "X = a_class()\n",
    "X.pub"
   ]
  },
  {
   "cell_type": "code",
   "execution_count": 42,
   "metadata": {
    "cell_style": "split",
    "slideshow": {
     "slide_type": "fragment"
    }
   },
   "outputs": [
    {
     "data": {
      "text/plain": [
       "'I am a public attribute and my value can be changed'"
      ]
     },
     "execution_count": 42,
     "metadata": {},
     "output_type": "execute_result"
    }
   ],
   "source": [
    "X.pub += \" and my value can be changed\"\n",
    "X.pub"
   ]
  },
  {
   "cell_type": "code",
   "execution_count": 43,
   "metadata": {
    "cell_style": "split",
    "slideshow": {
     "slide_type": "fragment"
    }
   },
   "outputs": [
    {
     "data": {
      "text/plain": [
       "'I am a protected attribute'"
      ]
     },
     "execution_count": 43,
     "metadata": {},
     "output_type": "execute_result"
    }
   ],
   "source": [
    "X._prot"
   ]
  },
  {
   "cell_type": "code",
   "execution_count": 44,
   "metadata": {
    "cell_style": "split",
    "slideshow": {
     "slide_type": "fragment"
    }
   },
   "outputs": [
    {
     "data": {
      "text/plain": [
       "'I am a protected attribute and my value can be changed'"
      ]
     },
     "execution_count": 44,
     "metadata": {},
     "output_type": "execute_result"
    }
   ],
   "source": [
    "X._prot+=\" and my value can be changed\"\n",
    "X._prot ## DON'T DO IT!"
   ]
  },
  {
   "cell_type": "code",
   "execution_count": 45,
   "metadata": {
    "cell_style": "center",
    "slideshow": {
     "slide_type": "fragment"
    }
   },
   "outputs": [
    {
     "ename": "AttributeError",
     "evalue": "'a_class' object has no attribute '__priv'",
     "output_type": "error",
     "traceback": [
      "\u001b[1;31m---------------------------------------------------------------------------\u001b[0m",
      "\u001b[1;31mAttributeError\u001b[0m                            Traceback (most recent call last)",
      "\u001b[1;32m<ipython-input-45-249b76ef9d4d>\u001b[0m in \u001b[0;36m<module>\u001b[1;34m\u001b[0m\n\u001b[1;32m----> 1\u001b[1;33m \u001b[0mX\u001b[0m\u001b[1;33m.\u001b[0m\u001b[0m__priv\u001b[0m\u001b[1;33m\u001b[0m\u001b[1;33m\u001b[0m\u001b[0m\n\u001b[0m",
      "\u001b[1;31mAttributeError\u001b[0m: 'a_class' object has no attribute '__priv'"
     ]
    }
   ],
   "source": [
    "X.__priv"
   ]
  },
  {
   "cell_type": "markdown",
   "metadata": {
    "slideshow": {
     "slide_type": "fragment"
    }
   },
   "source": [
    "Notice it says `object has no attribute '__priv'`: perfect information hiding."
   ]
  },
  {
   "cell_type": "markdown",
   "metadata": {
    "slideshow": {
     "slide_type": "subslide"
    }
   },
   "source": [
    "### Properties, or *getters* and *setters*"
   ]
  },
  {
   "cell_type": "markdown",
   "metadata": {
    "slideshow": {
     "slide_type": "fragment"
    }
   },
   "source": [
    "Assume you want to impose contraints on the possible values of an attribute. As an example, consider a class implementation of a thermometer: "
   ]
  },
  {
   "cell_type": "code",
   "execution_count": 46,
   "metadata": {},
   "outputs": [],
   "source": [
    "class thermometer:\n",
    "    def __init__(self, temperature = 0):\n",
    "        self.__temperature = temperature\n",
    "    @property      #   <- decorator\n",
    "    def temperature(self):\n",
    "        return self.__temperature\n",
    "\n",
    "    @temperature.setter  \n",
    "    def temperature(self, value):\n",
    "        if value < -273:\n",
    "            raise ValueError(\"Temperature cannot go below -273.\")\n",
    "        self.__temperature = value"
   ]
  },
  {
   "cell_type": "code",
   "execution_count": 47,
   "metadata": {
    "slideshow": {
     "slide_type": "fragment"
    }
   },
   "outputs": [
    {
     "data": {
      "text/plain": [
       "-40"
      ]
     },
     "execution_count": 47,
     "metadata": {},
     "output_type": "execute_result"
    }
   ],
   "source": [
    "T = thermometer()\n",
    "T.temperature = -40\n",
    "T.temperature"
   ]
  },
  {
   "cell_type": "markdown",
   "metadata": {
    "slideshow": {
     "slide_type": "slide"
    }
   },
   "source": [
    "### Types of Methods\n",
    "\n",
    "|Type|Description|\n",
    "|----|-----------|\n",
    "|Instance Method|  The regular method: takes one parameter `self` pointing at one instance of the class. This allows the instance method to address other attributes and methods of the class |\n",
    "|Class Method| Obtained through the decorator `@classmethod`, takes as input the parameter `cls` (pointing to the class, as opposed to the object) allowing it to modify the class' states across all instances, but not instances' states.   |\n",
    "|Static Method| Obtained through the decorator `@staticmethod`, they can neither modify object state nor class state. Such methods are restricted in what data they can access.    |"
   ]
  },
  {
   "cell_type": "markdown",
   "metadata": {
    "cell_style": "center",
    "slideshow": {
     "slide_type": "subslide"
    }
   },
   "source": [
    "#### Class methods"
   ]
  },
  {
   "cell_type": "code",
   "execution_count": 48,
   "metadata": {
    "cell_style": "center",
    "slideshow": {
     "slide_type": "fragment"
    }
   },
   "outputs": [],
   "source": [
    "class Person:\n",
    "    __type = \"human\" \n",
    "    def __init__(self, name, yob):\n",
    "        self.name, self.yob = name, yob\n",
    "    def get_info(self):\n",
    "        print(self.name,\"is a\",self.__type,\"born in\",self.yob)\n",
    "    @classmethod\n",
    "    def set_type(cls, string):\n",
    "        cls.__type = string"
   ]
  },
  {
   "cell_type": "code",
   "execution_count": 49,
   "metadata": {},
   "outputs": [
    {
     "name": "stdout",
     "output_type": "stream",
     "text": [
      "Jean-Philippe Rameau is a human born in 1683\n",
      "Jean-Philippe Rameau is a composer born in 1683\n"
     ]
    }
   ],
   "source": [
    "JPR = Person(\"Jean-Philippe Rameau\", 1683)\n",
    "JPR.get_info()\n",
    "###\n",
    "Person.set_type(\"composer\")\n",
    "JPR.get_info()"
   ]
  },
  {
   "cell_type": "markdown",
   "metadata": {
    "slideshow": {
     "slide_type": "subslide"
    }
   },
   "source": [
    "#### Class Methods: alternative constructors"
   ]
  },
  {
   "cell_type": "code",
   "execution_count": 50,
   "metadata": {
    "slideshow": {
     "slide_type": "fragment"
    }
   },
   "outputs": [],
   "source": [
    "class Person:\n",
    "    __type = \"human\" \n",
    "    def __init__(self, name, yob):\n",
    "        self.name, self.yob = name, yob\n",
    "    def get_info(self):\n",
    "        print(self.name,\"is a\",self.__type,\"born in\",self.yob)\n",
    "    @classmethod\n",
    "    def set_type(cls, string):\n",
    "        cls.__type = string\n",
    "    @classmethod\n",
    "    def from_single_string(cls,person_string):\n",
    "        name, yob = person_string.split(';')\n",
    "        return cls(name, yob)"
   ]
  },
  {
   "cell_type": "code",
   "execution_count": 51,
   "metadata": {
    "slideshow": {
     "slide_type": "fragment"
    }
   },
   "outputs": [
    {
     "name": "stdout",
     "output_type": "stream",
     "text": [
      "Jean-Philippe Rameau is a human born in 1683\n"
     ]
    }
   ],
   "source": [
    "JPR = Person.from_single_string(\"Jean-Philippe Rameau;1683\")\n",
    "JPR.get_info()"
   ]
  },
  {
   "cell_type": "markdown",
   "metadata": {
    "slideshow": {
     "slide_type": "subslide"
    }
   },
   "source": [
    "#### Class Methods: how to create factory objects\n",
    "\n",
    "Class methods also allow to easily create factory functions for the different kind of objects we want to create:"
   ]
  },
  {
   "cell_type": "code",
   "execution_count": 52,
   "metadata": {
    "slideshow": {
     "slide_type": "fragment"
    }
   },
   "outputs": [],
   "source": [
    "class Person:\n",
    "    __type = \"human\" \n",
    "    def __init__(self, name, yob):\n",
    "        self.name, self.yob = name, yob\n",
    "    def get_info(self):\n",
    "        print(self.name,\"is a\",self.__type,\"born in\",self.yob)\n",
    "    @classmethod\n",
    "    def jb(cls,yob):\n",
    "        P = cls(\"J. Bernoulli\", yob)\n",
    "        P.__type = \"scientist\"\n",
    "        return P"
   ]
  },
  {
   "cell_type": "code",
   "execution_count": 53,
   "metadata": {
    "slideshow": {
     "slide_type": "fragment"
    }
   },
   "outputs": [
    {
     "name": "stdout",
     "output_type": "stream",
     "text": [
      "J. Bernoulli is a scientist born in 1654\n",
      "J. Bernoulli is a scientist born in 1667\n",
      "J. Bernoulli is a scientist born in 1710\n",
      "J. Bernoulli is a scientist born in 1744\n",
      "J. Bernoulli is a scientist born in 1759\n"
     ]
    }
   ],
   "source": [
    "JB = (Person.jb(yob) for yob in [1654,1667,1710,1744,1759])\n",
    "for person in JB:\n",
    "    person.get_info()"
   ]
  },
  {
   "cell_type": "markdown",
   "metadata": {
    "slideshow": {
     "slide_type": "subslide"
    }
   },
   "source": [
    "#### Static Methods"
   ]
  },
  {
   "cell_type": "code",
   "execution_count": 54,
   "metadata": {
    "cell_style": "split",
    "slideshow": {
     "slide_type": "fragment"
    }
   },
   "outputs": [],
   "source": [
    "class Person: \n",
    "    def __init__(self, name, yob):\n",
    "        self.name, self.yob = name, yob\n",
    "    def greet():\n",
    "        return \"Hi there!\""
   ]
  },
  {
   "cell_type": "code",
   "execution_count": 55,
   "metadata": {
    "cell_style": "split",
    "slideshow": {
     "slide_type": "fragment"
    }
   },
   "outputs": [
    {
     "ename": "TypeError",
     "evalue": "greet() takes 0 positional arguments but 1 was given",
     "output_type": "error",
     "traceback": [
      "\u001b[1;31m---------------------------------------------------------------------------\u001b[0m",
      "\u001b[1;31mTypeError\u001b[0m                                 Traceback (most recent call last)",
      "\u001b[1;32m<ipython-input-55-52268f0c5cbd>\u001b[0m in \u001b[0;36m<module>\u001b[1;34m\u001b[0m\n\u001b[0;32m      1\u001b[0m \u001b[0mJB\u001b[0m \u001b[1;33m=\u001b[0m \u001b[0mPerson\u001b[0m\u001b[1;33m(\u001b[0m\u001b[1;34m\"J. Bernoulli\"\u001b[0m\u001b[1;33m,\u001b[0m\u001b[1;36m1654\u001b[0m\u001b[1;33m)\u001b[0m\u001b[1;33m\u001b[0m\u001b[1;33m\u001b[0m\u001b[0m\n\u001b[1;32m----> 2\u001b[1;33m \u001b[0mJB\u001b[0m\u001b[1;33m.\u001b[0m\u001b[0mgreet\u001b[0m\u001b[1;33m(\u001b[0m\u001b[1;33m)\u001b[0m\u001b[1;33m\u001b[0m\u001b[1;33m\u001b[0m\u001b[0m\n\u001b[0m\u001b[0;32m      3\u001b[0m \u001b[1;33m\u001b[0m\u001b[0m\n\u001b[0;32m      4\u001b[0m \u001b[1;31m## This returns an error! Why?\u001b[0m\u001b[1;33m\u001b[0m\u001b[1;33m\u001b[0m\u001b[1;33m\u001b[0m\u001b[0m\n",
      "\u001b[1;31mTypeError\u001b[0m: greet() takes 0 positional arguments but 1 was given"
     ]
    }
   ],
   "source": [
    "JB = Person(\"J. Bernoulli\",1654) \n",
    "JB.greet()\n",
    "\n",
    "## This returns an error! Why? "
   ]
  },
  {
   "cell_type": "code",
   "execution_count": 56,
   "metadata": {
    "cell_style": "split",
    "slideshow": {
     "slide_type": "fragment"
    }
   },
   "outputs": [],
   "source": [
    "class Person: \n",
    "    def __init__(self, name, yob):\n",
    "        self.name, self.yob =name,yob\n",
    "    @staticmethod\n",
    "    def greet():\n",
    "        return \"Hi there!\""
   ]
  },
  {
   "cell_type": "code",
   "execution_count": 57,
   "metadata": {
    "cell_style": "split",
    "slideshow": {
     "slide_type": "fragment"
    }
   },
   "outputs": [
    {
     "data": {
      "text/plain": [
       "'Hi there!'"
      ]
     },
     "execution_count": 57,
     "metadata": {},
     "output_type": "execute_result"
    }
   ],
   "source": [
    "JB = Person(\"J. Bernoulli\",1654)\n",
    "JB.greet()"
   ]
  },
  {
   "cell_type": "markdown",
   "metadata": {
    "slideshow": {
     "slide_type": "slide"
    }
   },
   "source": [
    "## Inheritance\n",
    "\n",
    "When writing a new class, it might be needed to *inherit* methods and functions from previously defined classes. This is often the case when the *child* class represents an abstract subset of the abstract group defined by the *parent* class from which it inherits."
   ]
  },
  {
   "cell_type": "markdown",
   "metadata": {
    "cell_style": "split",
    "slideshow": {
     "slide_type": "fragment"
    }
   },
   "source": [
    "```python\n",
    "class parent:\n",
    "    <body>\n",
    "    def parent_method(self):\n",
    "        <method`s body>\n",
    "    parent_attribute = 10\n",
    "    <more body>\n",
    "```"
   ]
  },
  {
   "cell_type": "markdown",
   "metadata": {
    "cell_style": "split",
    "slideshow": {
     "slide_type": "fragment"
    }
   },
   "source": [
    "```python\n",
    "class child(parent):\n",
    "    <body> \n",
    "```"
   ]
  },
  {
   "cell_type": "markdown",
   "metadata": {
    "slideshow": {
     "slide_type": "fragment"
    }
   },
   "source": [
    "An instance of child has now automatically access to `parent_attribute` and `parent_method()`."
   ]
  },
  {
   "cell_type": "code",
   "execution_count": 58,
   "metadata": {
    "slideshow": {
     "slide_type": "subslide"
    }
   },
   "outputs": [],
   "source": [
    "class Person:\n",
    "    def __init__(self, name, yob):\n",
    "        self.name, self.yob = name, yob\n",
    "    def get_info(self):\n",
    "        print(self.name,\"was born in\",self.yob)"
   ]
  },
  {
   "cell_type": "code",
   "execution_count": 59,
   "metadata": {
    "cell_style": "split",
    "slideshow": {
     "slide_type": "fragment"
    }
   },
   "outputs": [],
   "source": [
    "class Employee(Person):\n",
    "    pass"
   ]
  },
  {
   "cell_type": "code",
   "execution_count": 60,
   "metadata": {
    "cell_style": "split",
    "slideshow": {
     "slide_type": "fragment"
    }
   },
   "outputs": [
    {
     "name": "stdout",
     "output_type": "stream",
     "text": [
      "John Coltrane was born in 1967\n"
     ]
    }
   ],
   "source": [
    "JC = Employee(\"John Coltrane\",1967) \n",
    "JC.get_info()"
   ]
  },
  {
   "cell_type": "code",
   "execution_count": 61,
   "metadata": {
    "cell_style": "center",
    "slideshow": {
     "slide_type": "fragment"
    }
   },
   "outputs": [],
   "source": [
    "class Employee(Person):\n",
    "    def __init__(self, name, yob, div, pay):\n",
    "        super().__init__(name, yob)\n",
    "        self.div, self.pay = div, pay\n",
    "        self.email = name.replace(' ','.').lower() + '@ecb.europa.eu'"
   ]
  },
  {
   "cell_type": "code",
   "execution_count": 62,
   "metadata": {
    "cell_style": "center",
    "slideshow": {
     "slide_type": "fragment"
    }
   },
   "outputs": [
    {
     "name": "stdout",
     "output_type": "stream",
     "text": [
      "john.coltrane@ecb.europa.eu\n"
     ]
    }
   ],
   "source": [
    "JC = Employee(\"John Coltrane\",1967,'SRF', 60000) \n",
    "print(JC.email)"
   ]
  },
  {
   "cell_type": "markdown",
   "metadata": {
    "slideshow": {
     "slide_type": "subslide"
    }
   },
   "source": [
    "#### Polymorphism: overriding inherited methods"
   ]
  },
  {
   "cell_type": "code",
   "execution_count": 63,
   "metadata": {
    "slideshow": {
     "slide_type": "fragment"
    }
   },
   "outputs": [],
   "source": [
    "class Employee(Person):\n",
    "    def __init__(self, name, yob, div, pay):\n",
    "        super().__init__(name, yob)\n",
    "        self.div, self.pay = div, pay\n",
    "        self.email = name.replace(' ','.').lower() + '@ecb.europa.eu'\n",
    "    def get_info(self):\n",
    "        print(self.name,\"born in\",self.yob)\n",
    "        print(\"Email: \",self.email)\n",
    "        print(\"Pay: \",self.pay,'€')\n",
    "        print(\"Role: \"+ type(self).__name__)"
   ]
  },
  {
   "cell_type": "code",
   "execution_count": 64,
   "metadata": {
    "slideshow": {
     "slide_type": "fragment"
    }
   },
   "outputs": [
    {
     "name": "stdout",
     "output_type": "stream",
     "text": [
      "John Coltrane born in 1967\n",
      "Email:  john.coltrane@ecb.europa.eu\n",
      "Pay:  60000 €\n",
      "Role: Employee\n"
     ]
    }
   ],
   "source": [
    "JC = Employee(\"John Coltrane\",1967,'SRF', 60000) \n",
    "JC.get_info()"
   ]
  },
  {
   "cell_type": "markdown",
   "metadata": {
    "slideshow": {
     "slide_type": "subslide"
    }
   },
   "source": [
    "#### Of course, an object can create other instances:"
   ]
  },
  {
   "cell_type": "code",
   "execution_count": 65,
   "metadata": {
    "slideshow": {
     "slide_type": "fragment"
    }
   },
   "outputs": [],
   "source": [
    "class Manager(Employee):\n",
    "    @staticmethod\n",
    "    def hire(N):\n",
    "        New_employees = []\n",
    "        for i in range(N):\n",
    "            New_employees.append(Employee(\"new_empl\"+str(i),1990,'SRF', 40000))\n",
    "        return New_employees\n",
    "    @classmethod\n",
    "    def promote(cls,Employee):\n",
    "        new_manager = cls(Employee.name, Employee.yob, Employee.div, Employee.pay)\n",
    "        new_manager.pay *= 1.4\n",
    "        del Employee\n",
    "        return new_manager"
   ]
  },
  {
   "cell_type": "code",
   "execution_count": 66,
   "metadata": {
    "slideshow": {
     "slide_type": "fragment"
    }
   },
   "outputs": [
    {
     "name": "stdout",
     "output_type": "stream",
     "text": [
      "John Coltrane born in 1967\n",
      "Email:  john.coltrane@ecb.europa.eu\n",
      "Pay:  84000.0 €\n",
      "Role: Manager\n"
     ]
    }
   ],
   "source": [
    "a_manager = Manager(\"Mister Manager\", 1976, 'SRF', 90000)\n",
    "JC_promoted = a_manager.promote(JC)\n",
    "JC_promoted.get_info()"
   ]
  },
  {
   "cell_type": "code",
   "execution_count": 67,
   "metadata": {
    "cell_style": "split",
    "slideshow": {
     "slide_type": "fragment"
    }
   },
   "outputs": [
    {
     "name": "stdout",
     "output_type": "stream",
     "text": [
      "True\n",
      "False\n"
     ]
    }
   ],
   "source": [
    "print(isinstance(JC_promoted, Manager))\n",
    "print(isinstance(JC, Manager))"
   ]
  },
  {
   "cell_type": "code",
   "execution_count": 68,
   "metadata": {
    "cell_style": "split"
   },
   "outputs": [
    {
     "name": "stdout",
     "output_type": "stream",
     "text": [
      "True\n",
      "False\n"
     ]
    }
   ],
   "source": [
    "print(issubclass(Manager, Employee))\n",
    "print(issubclass(Person, Employee))"
   ]
  },
  {
   "cell_type": "markdown",
   "metadata": {
    "slideshow": {
     "slide_type": "slide"
    }
   },
   "source": [
    "# End of Lecture 3"
   ]
  }
 ],
 "metadata": {
  "celltoolbar": "Slideshow",
  "kernelspec": {
   "display_name": "Python 3",
   "language": "python",
   "name": "python3"
  },
  "language_info": {
   "codemirror_mode": {
    "name": "ipython",
    "version": 3
   },
   "file_extension": ".py",
   "mimetype": "text/x-python",
   "name": "python",
   "nbconvert_exporter": "python",
   "pygments_lexer": "ipython3",
   "version": "3.7.3"
  },
  "varInspector": {
   "cols": {
    "lenName": 16,
    "lenType": 16,
    "lenVar": 40
   },
   "kernels_config": {
    "python": {
     "delete_cmd_postfix": "",
     "delete_cmd_prefix": "del ",
     "library": "var_list.py",
     "varRefreshCmd": "print(var_dic_list())"
    },
    "r": {
     "delete_cmd_postfix": ") ",
     "delete_cmd_prefix": "rm(",
     "library": "var_list.r",
     "varRefreshCmd": "cat(var_dic_list()) "
    }
   },
   "types_to_exclude": [
    "module",
    "function",
    "builtin_function_or_method",
    "instance",
    "_Feature"
   ],
   "window_display": false
  }
 },
 "nbformat": 4,
 "nbformat_minor": 2
}
