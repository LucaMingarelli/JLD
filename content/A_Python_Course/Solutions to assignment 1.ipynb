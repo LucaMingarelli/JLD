{
 "cells": [
  {
   "cell_type": "markdown",
   "source": [
    "## Solutions to the assignments:"
   ],
   "metadata": {
    "collapsed": false,
    "pycharm": {
     "name": "#%% md\n"
    }
   }
  },
  {
   "cell_type": "markdown",
   "source": [
    "## 1."
   ],
   "metadata": {
    "collapsed": false,
    "pycharm": {
     "name": "#%% md\n"
    }
   }
  },
  {
   "cell_type": "code",
   "execution_count": 1,
   "outputs": [
    {
     "data": {
      "text/plain": "[[1],\n [1, 1],\n [1, 2, 1],\n [1, 3, 3, 1],\n [1, 4, 6, 4, 1],\n [1, 5, 10, 10, 5, 1],\n [1, 6, 15, 20, 15, 6, 1]]"
     },
     "execution_count": 1,
     "metadata": {},
     "output_type": "execute_result"
    }
   ],
   "source": [
    "def Pascal(n):\n",
    "    row = [1]\n",
    "    T=[row]\n",
    "    for _ in range(n):\n",
    "        row=[l+r for l,r in zip(row+[0], [0]+row)]\n",
    "        T.append(row)\n",
    "    return T\n",
    "Pascal(6)"
   ],
   "metadata": {
    "collapsed": false,
    "pycharm": {
     "name": "#%%\n"
    }
   }
  },
  {
   "cell_type": "code",
   "execution_count": 2,
   "outputs": [
    {
     "data": {
      "text/plain": "True"
     },
     "execution_count": 2,
     "metadata": {},
     "output_type": "execute_result"
    }
   ],
   "source": [
    "def bin_exp(x,y,n):\n",
    "    return sum([x**(n-k) * y**k *coeff for k,coeff in zip(range(n+1),Pascal(n)[-1])])\n",
    "def verify_binomial_theorem(x,y,n):\n",
    "    return bin_exp(x,y,n) == (x+y)**n\n",
    "verify_binomial_theorem(253,28,52)"
   ],
   "metadata": {
    "collapsed": false,
    "pycharm": {
     "name": "#%%\n"
    }
   }
  },
  {
   "cell_type": "markdown",
   "source": [
    "## 2."
   ],
   "metadata": {
    "collapsed": false,
    "pycharm": {
     "name": "#%% md\n"
    }
   }
  },
  {
   "cell_type": "code",
   "execution_count": 3,
   "outputs": [],
   "source": [
    "# Sum lines form the bottom to the top and maximise sums\n",
    "def solution(A):\n",
    "    A=[[int(d) for d in str(n)] for n in A]  # List becomes list of lists\n",
    "    while len(A) > 1:\n",
    "        e1=A[-1]  # Last level\n",
    "        e2=A[-2]  # Penultimate level\n",
    "        s1=[e1[n]  +e2[n] for n in range(len(e2))]   # Sum below\n",
    "        s2=[e1[n+1]+e2[n] for n in range(len(e2))]   # Sum below right\n",
    "        MS=[max(a,b) for a,b in zip(s1,s2)]          # Max of possible sums\n",
    "        A[-2]=MS  # Replace penultimate line with MS\n",
    "        A.pop()   # Remove last line\n",
    "    return A[0][0]"
   ],
   "metadata": {
    "collapsed": false,
    "pycharm": {
     "name": "#%%\n"
    }
   }
  },
  {
   "cell_type": "code",
   "execution_count": 4,
   "outputs": [],
   "source": [
    "#### Generate long triangle\n",
    "def gen_T(L):\n",
    "    from random import randint, seed\n",
    "    seed(100)\n",
    "    T=[];  \n",
    "    for n in range(L):\n",
    "        T.append(randint(10**(n) ,10**(n+1)-1))\n",
    "    return T"
   ],
   "metadata": {
    "collapsed": false,
    "pycharm": {
     "name": "#%%\n"
    }
   }
  },
  {
   "cell_type": "code",
   "execution_count": 5,
   "outputs": [
    {
     "data": {
      "text/plain": "30"
     },
     "execution_count": 5,
     "metadata": {},
     "output_type": "execute_result"
    }
   ],
   "source": [
    "solution([7,38,810,2744,45265])"
   ],
   "metadata": {
    "collapsed": false,
    "pycharm": {
     "name": "#%%\n"
    }
   }
  },
  {
   "cell_type": "code",
   "execution_count": 6,
   "outputs": [
    {
     "data": {
      "text/plain": "333"
     },
     "execution_count": 6,
     "metadata": {},
     "output_type": "execute_result"
    }
   ],
   "source": [
    "solution(gen_T(50))"
   ],
   "metadata": {
    "collapsed": false,
    "pycharm": {
     "name": "#%%\n"
    }
   }
  },
  {
   "cell_type": "code",
   "execution_count": 7,
   "outputs": [
    {
     "name": "stdout",
     "output_type": "stream",
     "text": [
      "418744425182106254762\u001B[31m3\u001B[0m24765268583738\n",
      "8517027184494201168094\u001B[31m8\u001B[0m53201776174995\n",
      "19905495404807847318174\u001B[31m8\u001B[0m51463000018942\n",
      "211190092620649635838104\u001B[31m8\u001B[0m21711183330845\n",
      "8726513375633751610457942\u001B[31m7\u001B[0m16768734238283\n",
      "8939935757769822697687385\u001B[31m5\u001B[0m548857615377619\n",
      "3686445975667706581912278\u001B[31m9\u001B[0m1180199031930058\n",
      "7641876277040658233068710\u001B[31m3\u001B[0m19771596314829353\n",
      "37027850249890306589849593\u001B[31m9\u001B[0m95595782274793195\n",
      "780384603136050422247697990\u001B[31m6\u001B[0m13367538901646873\n",
      "6083671798297876918069677488\u001B[31m8\u001B[0m87949895817468912\n",
      "89731873933709622126568196609\u001B[31m9\u001B[0m75917250560892768\n",
      "304579873520784682720034826644\u001B[31m8\u001B[0m04968407591091808\n",
      "1367712352974592097373652119073\u001B[31m9\u001B[0m90828810352961386\n",
      "59744921223361202330047087747395\u001B[31m9\u001B[0m49536721275921715\n",
      "                                \u001B[1;31m333\u001B[0m\n",
      "True\n"
     ]
    }
   ],
   "source": [
    "# Redefine solution to keep track of maxima\n",
    "def solution(A):\n",
    "    A=[[int(d) for d in str(n)] for n in A]\n",
    "    global M\n",
    "    M=[]\n",
    "    for l in range(len(A)-1):\n",
    "        e1=A[-1]  # Last level\n",
    "        e2=A[-2]  # Penultimate level\n",
    "        s1=[e1[n]+e2[n] for n in range(len(e2))]   # Sum below\n",
    "        s2=[e1[n+1]+e2[n] for n in range(len(e2))] # Sum below right\n",
    "        MS=[max(a,b) for a,b in zip(s1,s2)]        # Max of possible sums\n",
    "        A[-2]=MS  # Replace penultimate line with MS\n",
    "        A.pop()   # Remove last line\n",
    "        M.append(MS)\n",
    "    return A[0][0]\n",
    "def find_path(A):\n",
    "        global M\n",
    "        S=solution(A)\n",
    "        A=[[int(d) for d in str(n)] for n in A]\n",
    "        ch_el=[M[-1][0]]\n",
    "        path=[1]\n",
    "        for n in range(2,len(M)+1):\n",
    "            if M[-n][path[-1]-1]>M[-n][path[-1]]:\n",
    "                path.append(path[-1])\n",
    "            else:\n",
    "                path.append(path[-1]+1)\n",
    "        # Add last element of path\n",
    "        if A[-1][path[-1]-1]>A[-1][path[-1]]:\n",
    "            path.append(path[-1])\n",
    "        else:\n",
    "            path.append(path[-1]+1)\n",
    "        return path \n",
    "# Function to print triangle out of vector and path\n",
    "def print_sol_tree(A, start = 0):\n",
    "    S=solution(A)\n",
    "    path=find_path(A)\n",
    "    sm=0\n",
    "    for n in range(len(A)):\n",
    "        D=[int(d) for d in str(A[n])];\n",
    "        for d in range(len(D)):\n",
    "            if d+1==path[n]:\n",
    "                if n>=start:\n",
    "                    print(\"\\x1b[31m\"+str(D[d])+\"\\x1b[0m\",end=\"\", flush=True)\n",
    "                sm+=D[d]\n",
    "            elif n>=start:\n",
    "                print(D[d],end=\"\", flush=True)\n",
    "        if n>=start:\n",
    "            print()\n",
    "    if n>=start:\n",
    "        print(\" \"*path[-2]+\"\\x1b[1;31m\"+str(S)+\"\\x1b[0m\")\n",
    "    if sm==S and n>=start:\n",
    "        print(sm==S)\n",
    "    else:\n",
    "        print(sm==S)\n",
    "        print(\"Error!\")\n",
    "    return sm==S\n",
    "cond=print_sol_tree(gen_T(50),35)"
   ],
   "metadata": {
    "collapsed": false,
    "pycharm": {
     "name": "#%%\n"
    }
   }
  }
 ],
 "metadata": {
  "kernelspec": {
   "name": "python3",
   "language": "python",
   "display_name": "Python 3"
  },
  "language_info": {
   "codemirror_mode": {
    "name": "ipython",
    "version": 3
   },
   "file_extension": ".py",
   "mimetype": "text/x-python",
   "name": "python",
   "nbconvert_exporter": "python",
   "pygments_lexer": "ipython3",
   "version": "3.6.8"
  },
  "varInspector": {
   "cols": {
    "lenName": 16,
    "lenType": 16,
    "lenVar": 40
   },
   "kernels_config": {
    "python": {
     "delete_cmd_postfix": "",
     "delete_cmd_prefix": "del ",
     "library": "var_list.py",
     "varRefreshCmd": "print(var_dic_list())"
    },
    "r": {
     "delete_cmd_postfix": ") ",
     "delete_cmd_prefix": "rm(",
     "library": "var_list.r",
     "varRefreshCmd": "cat(var_dic_list()) "
    }
   },
   "position": {
    "height": "269px",
    "left": "1071px",
    "right": "20px",
    "top": "120px",
    "width": "349px"
   },
   "types_to_exclude": [
    "module",
    "function",
    "builtin_function_or_method",
    "instance",
    "_Feature"
   ],
   "window_display": false
  }
 },
 "nbformat": 4,
 "nbformat_minor": 2
}